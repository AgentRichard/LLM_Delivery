{
 "cells": [
  {
   "cell_type": "code",
   "execution_count": 17,
   "metadata": {},
   "outputs": [
    {
     "name": "stdout",
     "output_type": "stream",
     "text": [
      "tensor([ 1.5410, -0.2934, -2.1788])\n",
      "tensor([0.0184, 0.8415], grad_fn=<ViewBackward0>)\n",
      "Parameter containing:\n",
      "tensor([[-0.0512,  0.1528, -0.1745],\n",
      "        [-0.1135, -0.5516, -0.3824]], requires_grad=True)\n",
      "tensor(1)\n",
      "tensor(0.0251, grad_fn=<PowBackward0>)\n",
      "Parameter containing:\n",
      "tensor([[-0.0512,  0.1528, -0.1745],\n",
      "        [-0.1125, -0.5526, -0.3834]], requires_grad=True)\n"
     ]
    }
   ],
   "source": [
    "import torch\n",
    "from torch.optim import Adam\n",
    "\n",
    "torch.manual_seed(0)\n",
    "x = torch.randn(3)\n",
    "print(x)\n",
    "_layer = torch.nn.Linear(3, 2)\n",
    "rt = _layer(x)\n",
    "print(rt)\n",
    "print(_layer.weight)\n",
    "label = 1\n",
    "index = rt.argmax(-1)\n",
    "print(index)\n",
    "loss = (rt[index] - label) ** 2 \n",
    "print(loss)\n",
    "\n",
    "optim = Adam(_layer.parameters())\n",
    "optim.zero_grad()\n",
    "loss.backward()\n",
    "optim.step()\n",
    "print(_layer.weight)"
   ]
  },
  {
   "cell_type": "code",
   "execution_count": 51,
   "metadata": {},
   "outputs": [
    {
     "name": "stdout",
     "output_type": "stream",
     "text": [
      "tensor([0.2713], requires_grad=True)\n",
      "tensor([-1.2729], requires_grad=True)\n",
      "tensor([-0.6906], grad_fn=<MulBackward0>)\n",
      "tensor([-2.5458])\n",
      "tensor([0.5426])\n"
     ]
    }
   ],
   "source": [
    "\n",
    "import torch\n",
    "torch.manual_seed(8)\n",
    "w1 = torch.randn(1, requires_grad=True)\n",
    "print(w1)\n",
    "x = torch.tensor(2.0)\n",
    "w2 = torch.randn(1, requires_grad=True)\n",
    "print(w2)\n",
    "y = x * w1 * w2\n",
    "print(y)\n",
    "\n",
    "y.backward()\n",
    "print(w1.grad)\n",
    "print(w2.grad)"
   ]
  }
 ],
 "metadata": {
  "kernelspec": {
   "display_name": "py312",
   "language": "python",
   "name": "python3"
  },
  "language_info": {
   "codemirror_mode": {
    "name": "ipython",
    "version": 3
   },
   "file_extension": ".py",
   "mimetype": "text/x-python",
   "name": "python",
   "nbconvert_exporter": "python",
   "pygments_lexer": "ipython3",
   "version": "3.12.5"
  }
 },
 "nbformat": 4,
 "nbformat_minor": 2
}
