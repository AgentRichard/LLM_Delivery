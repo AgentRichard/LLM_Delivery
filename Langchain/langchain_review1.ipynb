{
 "cells": [
  {
   "cell_type": "code",
   "execution_count": 2,
   "metadata": {},
   "outputs": [
    {
     "name": "stdout",
     "output_type": "stream",
     "text": [
      "[SystemMessage(content='你是一个大模型', additional_kwargs={}, response_metadata={}), HumanMessage(content='你喜欢张三吗？', additional_kwargs={}, response_metadata={})]\n"
     ]
    }
   ],
   "source": [
    "from langchain_openai import ChatOpenAI\n",
    "from langchain_core.prompts import ChatPromptTemplate, PromptTemplate\n",
    "from langchain_core.messages import HumanMessage, SystemMessage\n",
    "\n",
    "_llm = ChatOpenAI(\n",
    "    api_key=\"ollama\",\n",
    "    model=\"qwen2.5:7b\",\n",
    "    base_url=\"http://0.0.0.0:60000/v1\"\n",
    ")\n",
    "\n",
    "_prompt = ChatPromptTemplate([\n",
    "    (\"system\", \"你是一个大模型\"),\n",
    "    (\"user\", \"你喜欢{name}吗？\")\n",
    "])\n",
    "\n",
    "_prompt = _prompt.format_messages(**{\"name\":\"张三\"})\n",
    "print(_prompt)\n",
    "# print(_llm.invoke(\"你是谁\"))\n",
    "# print(type(_llm.invoke(\"你是谁\")))\n",
    "# print(_llm.invoke([{\"role\":\"user\", \"content\":\"你是谁\"}]))\n",
    "# print(_llm.invoke([HumanMessage(\"我是谁A\")]))"
   ]
  },
  {
   "cell_type": "code",
   "execution_count": 3,
   "metadata": {},
   "outputs": [
    {
     "data": {
      "text/plain": [
       "AIMessage(content='您好，张三同学，我是来自阿里云的AI助手Qwen。很高兴认识你！如果你有任何问题或需要帮助，请随时告诉我。', additional_kwargs={'refusal': None}, response_metadata={'token_usage': {'completion_tokens': 31, 'prompt_tokens': 40, 'total_tokens': 71, 'completion_tokens_details': None}, 'model_name': 'qwen2.5:7b', 'system_fingerprint': 'fp_ollama', 'finish_reason': 'stop', 'logprobs': None}, id='run-f10410a6-1ca1-4a5a-9db0-5b0b178696bb-0', usage_metadata={'input_tokens': 40, 'output_tokens': 31, 'total_tokens': 71, 'input_token_details': {}, 'output_token_details': {}})"
      ]
     },
     "execution_count": 3,
     "metadata": {},
     "output_type": "execute_result"
    }
   ],
   "source": [
    "_template = \"我叫{name}, 请问你的名字是什么？\"\n",
    "_prompt = PromptTemplate(template=_template, input_variables=[\"name\"])\n",
    "content = {\"name\":\"张三\"}\n",
    "prompt_value = _prompt.format_prompt(**content)\n",
    "_llm.invoke(prompt_value)\n"
   ]
  },
  {
   "cell_type": "code",
   "execution_count": 4,
   "metadata": {},
   "outputs": [
    {
     "name": "stdout",
     "output_type": "stream",
     "text": [
      "[SystemMessage(content='你是一个AI助手', additional_kwargs={}, response_metadata={}), HumanMessage(content='我的名字是张三', additional_kwargs={}, response_metadata={})]\n"
     ]
    },
    {
     "data": {
      "text/plain": [
       "AIMessage(content='很高兴认识你，张三！有什么问题我可以帮助你解答或协助吗？', additional_kwargs={'refusal': None}, response_metadata={'token_usage': {'completion_tokens': 18, 'prompt_tokens': 22, 'total_tokens': 40, 'completion_tokens_details': None}, 'model_name': 'qwen2.5:7b', 'system_fingerprint': 'fp_ollama', 'finish_reason': 'stop', 'logprobs': None}, id='run-911ce68e-b4f8-4d66-9754-3fe11330fa43-0', usage_metadata={'input_tokens': 22, 'output_tokens': 18, 'total_tokens': 40, 'input_token_details': {}, 'output_token_details': {}})"
      ]
     },
     "execution_count": 4,
     "metadata": {},
     "output_type": "execute_result"
    }
   ],
   "source": [
    "from langchain_core.messages import HumanMessage, SystemMessage\n",
    "from langchain_core.prompts import ChatPromptTemplate\n",
    "\n",
    "_prompt = ChatPromptTemplate([\n",
    "    (\"system\",\"你是一个{name}助手\"),\n",
    "    (\"user\", \"我的名字是{name2}\")\n",
    "])\n",
    "\n",
    "content = {\"name\":\"AI\", \"name2\":\"张三\"}\n",
    "_prompt_value = _prompt.format_messages(**content)\n",
    "print(_prompt_value)\n",
    "\n",
    "_llm.invoke(_prompt_value)\n"
   ]
  },
  {
   "cell_type": "code",
   "execution_count": 5,
   "metadata": {},
   "outputs": [
    {
     "name": "stdout",
     "output_type": "stream",
     "text": [
      "content='很高兴认识你，张三！有什么问题我可以帮忙解答或者协助的吗？' additional_kwargs={'refusal': None} response_metadata={'token_usage': {'completion_tokens': 18, 'prompt_tokens': 22, 'total_tokens': 40, 'completion_tokens_details': None}, 'model_name': 'qwen2.5:7b', 'system_fingerprint': 'fp_ollama', 'finish_reason': 'stop', 'logprobs': None} id='run-5a83b29a-0aa1-4e69-a5ea-4de1ad4a4555-0' usage_metadata={'input_tokens': 22, 'output_tokens': 18, 'total_tokens': 40, 'input_token_details': {}, 'output_token_details': {}}\n",
      "content='wwww' additional_kwargs={} response_metadata={}\n"
     ]
    },
    {
     "data": {
      "text/plain": [
       "str"
      ]
     },
     "execution_count": 5,
     "metadata": {},
     "output_type": "execute_result"
    }
   ],
   "source": [
    "from langchain_core.output_parsers import StrOutputParser\n",
    "\n",
    "_stroutput_parser = StrOutputParser()\n",
    "_rep = _llm.invoke(_prompt_value) ## 输出的是AImessage\n",
    "print(_rep)\n",
    "_stroutput_parser.invoke(_rep)\n",
    "\n",
    "a = HumanMessage(\"wwww\")\n",
    "print(a)\n",
    "b = _stroutput_parser.invoke(a)\n",
    "type(b)"
   ]
  },
  {
   "cell_type": "code",
   "execution_count": 6,
   "metadata": {},
   "outputs": [
    {
     "name": "stdout",
     "output_type": "stream",
     "text": [
      "很高兴遇见你，张三！我可以帮助你解答问题、提供信息或进行各种有趣的对话。你可以告诉我更多关于你需要帮助的事情吗？\n"
     ]
    },
    {
     "data": {
      "text/plain": [
       "'user'"
      ]
     },
     "execution_count": 6,
     "metadata": {},
     "output_type": "execute_result"
    }
   ],
   "source": [
    "chain = _llm | _stroutput_parser\n",
    "print(chain.invoke([{\"role\":\"user\", \"content\":\"我的名字叫张三\"}, {\"role\":\"system\", \"content\":\"你是一个AI助手\"}]))\n",
    "_stroutput_parser.invoke({\"role\":\"user\", \"content\":\"我叫张三\"}[\"role\"])"
   ]
  },
  {
   "cell_type": "code",
   "execution_count": 7,
   "metadata": {},
   "outputs": [
    {
     "data": {
      "text/plain": [
       "['很高兴认识你，张三！有什么问题或需要帮助的吗？', '很高兴认识你，张三！有什么问题或者需要帮忙的吗？']"
      ]
     },
     "execution_count": 7,
     "metadata": {},
     "output_type": "execute_result"
    }
   ],
   "source": [
    "chain.batch([_prompt_value, _prompt_value])"
   ]
  },
  {
   "cell_type": "code",
   "execution_count": 8,
   "metadata": {},
   "outputs": [
    {
     "name": "stdout",
     "output_type": "stream",
     "text": [
      "很高兴\n",
      "认识\n",
      "你\n",
      "，\n",
      "张\n",
      "三\n",
      "！\n",
      "有什么\n",
      "问题\n",
      "我可以\n",
      "帮助\n",
      "你\n",
      "解答\n",
      "或\n",
      "协助\n",
      "吗\n",
      "？\n",
      "\n"
     ]
    }
   ],
   "source": [
    "for token in chain.stream(_prompt_value):\n",
    "    print(token)"
   ]
  },
  {
   "cell_type": "code",
   "execution_count": 11,
   "metadata": {},
   "outputs": [
    {
     "data": {
      "text/plain": [
       "ChatPromptValue(messages=[HumanMessage(content='我叫张三', additional_kwargs={}, response_metadata={}), SystemMessage(content='你是一个AI助手', additional_kwargs={}, response_metadata={})])"
      ]
     },
     "execution_count": 11,
     "metadata": {},
     "output_type": "execute_result"
    }
   ],
   "source": [
    "_prompt = ChatPromptTemplate([\n",
    "    (\"human\",\"我叫{name}\"),\n",
    "    (\"system\", \"你是一个{name2}助手\")\n",
    "])\n",
    "config = {\"name\":\"张三\", \"name2\":\"AI\"}\n",
    "_prompt_value = _prompt.invoke(config)\n",
    "_prompt_value\n"
   ]
  },
  {
   "cell_type": "code",
   "execution_count": 10,
   "metadata": {},
   "outputs": [
    {
     "data": {
      "text/plain": [
       "AIMessage(content='我是Qwen，一个由阿里云开发的超大规模语言模型。我可以帮助用户生成各种类型的文本，比如文章、故事、诗歌、故事等，并能回答问题、创作音乐歌词甚至是提供代码帮助。如果你有任何问题或需要任何帮助，请随时告诉我！', additional_kwargs={'refusal': None}, response_metadata={'token_usage': {'completion_tokens': 57, 'prompt_tokens': 35, 'total_tokens': 92, 'completion_tokens_details': None}, 'model_name': 'qwen2.5:7b', 'system_fingerprint': 'fp_ollama', 'finish_reason': 'stop', 'logprobs': None}, id='run-b8f4662b-07f3-4525-bec2-16d2fdf959a9-0', usage_metadata={'input_tokens': 35, 'output_tokens': 57, 'total_tokens': 92, 'input_token_details': {}, 'output_token_details': {}})"
      ]
     },
     "execution_count": 10,
     "metadata": {},
     "output_type": "execute_result"
    }
   ],
   "source": [
    "_llm.invoke([HumanMessage(\"你是谁\"), SystemMessage(\"你是一个AI助手\")])"
   ]
  }
 ],
 "metadata": {
  "kernelspec": {
   "display_name": "py312",
   "language": "python",
   "name": "python3"
  },
  "language_info": {
   "codemirror_mode": {
    "name": "ipython",
    "version": 3
   },
   "file_extension": ".py",
   "mimetype": "text/x-python",
   "name": "python",
   "nbconvert_exporter": "python",
   "pygments_lexer": "ipython3",
   "version": "3.12.5"
  }
 },
 "nbformat": 4,
 "nbformat_minor": 2
}
